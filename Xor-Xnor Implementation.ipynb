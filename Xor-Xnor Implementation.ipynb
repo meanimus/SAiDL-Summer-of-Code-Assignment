{
 "cells": [
  {
   "cell_type": "markdown",
   "metadata": {},
   "source": [
    "# XOR-XNOR Computation using ANN"
   ]
  },
  {
   "cell_type": "code",
   "execution_count": 45,
   "metadata": {},
   "outputs": [],
   "source": [
    "#import necessary libraries and modules\n",
    "from numpy import*\n",
    "import matplotlib.pyplot as plt"
   ]
  },
  {
   "cell_type": "code",
   "execution_count": 152,
   "metadata": {},
   "outputs": [],
   "source": [
    "#activation functions and their derivatives\n",
    "\n",
    "def tanh(x):\n",
    "    return(1.0-exp(-2*x))/(1.0+exp(-2*x))\n",
    "\n",
    "def sigmoid(x):\n",
    "    return(1/(1+exp(-x)))\n",
    "\n",
    "\n",
    "def sigmoid_der(x):\n",
    "    return sigmoid(x)*(1-sigmoid(x))\n",
    "\n",
    "def tanh_der(x):\n",
    "    return (1+x)*(1-x)"
   ]
  },
  {
   "cell_type": "markdown",
   "metadata": {},
   "source": [
    "Training data:\n",
    "\n",
    "X (input)is the possible set of booleans True or False in terms of integers 1 and 0.\n",
    "\n",
    "1st column of input here is the input bias term ie 1.\n",
    "\n",
    "last column indicates the type of gate XOR is 1 and XNOR is 0.\n",
    "\n",
    "Y(expected_output) is the result of logical operation XOR or XNOR on each of these set.\n",
    "\n"
   ]
  },
  {
   "cell_type": "code",
   "execution_count": 189,
   "metadata": {},
   "outputs": [],
   "source": [
    "\n",
    "x=array([[1,1,1,0],[1,1,0,0],[1,0,1,0],[1,0,0,0],[1,1,1,1],[1,1,0,1],[1,0,1,1],[1,0,0,1]])\n",
    "y=array([[1],[0],[0],[1],[0],[1],[1],[0]])\n"
   ]
  },
  {
   "cell_type": "markdown",
   "metadata": {},
   "source": [
    "Initialisation of network parameters:\n",
    "\n",
    "Initialise weights with number generated randomly from Gaussian Distribution with mean =0 and std=1.\n",
    "\n",
    "Bias initialisation is done in input and in forward propagation with the value 1."
   ]
  },
  {
   "cell_type": "code",
   "execution_count": 206,
   "metadata": {},
   "outputs": [],
   "source": [
    "\n",
    "w1=random.normal(0,1,(4,8))\n",
    "w2=random.normal(0,1,(9,1))\n"
   ]
  },
  {
   "cell_type": "markdown",
   "metadata": {},
   "source": [
    "Hyper-paramter initialisation"
   ]
  },
  {
   "cell_type": "code",
   "execution_count": 198,
   "metadata": {},
   "outputs": [],
   "source": [
    "lr=0.09  # learning rate \n",
    "epochs=20000  # total no of iterations\n",
    "l=len(x)  # length of input data , this value is used in finding gradient."
   ]
  },
  {
   "cell_type": "code",
   "execution_count": 205,
   "metadata": {},
   "outputs": [],
   "source": [
    "cost=[]  # an array for storing the losses"
   ]
  },
  {
   "cell_type": "markdown",
   "metadata": {},
   "source": [
    "Forward Propagation:\n",
    "\n",
    "This ANN involves only 1 hidden layer.\n",
    "\n",
    "Forward propagation involves mulitplication of weights with inputs and addition of bias and passing through activation function in each layer.\n",
    "\n",
    "\n"
   ]
  },
  {
   "cell_type": "code",
   "execution_count": 200,
   "metadata": {},
   "outputs": [],
   "source": [
    "#Forward propagation\n",
    "\n",
    "def forwardprop(x,w1,w2,predict=False):\n",
    "    a1=matmul(x,w1)     #matrix multipliation\n",
    "    z1=sigmoid(a1)       #passing through activation function\n",
    "    # create and add bias\n",
    "    bias = ones((len(z1),1))  # bias for hidden layer\n",
    "    z1=concatenate((bias,z1),axis=1)   # bias added \n",
    "    a2=matmul(z1,w2)\n",
    "    z2=sigmoid(a2)   # final layer output\n",
    "    if predict:               # while training predict is made false while testing predict is made true\n",
    "        return z2\n",
    "    else:\n",
    "        return a1,z1,a2,z2\n",
    "\n"
   ]
  },
  {
   "cell_type": "markdown",
   "metadata": {},
   "source": [
    "Backward Propagation:\n",
    "\n",
    "Differentiating the cost function with respect to weights and moving in the direction of negative gradient  to minimize the cost function "
   ]
  },
  {
   "cell_type": "code",
   "execution_count": 169,
   "metadata": {},
   "outputs": [],
   "source": [
    "#Backward propagation\n",
    "\n",
    "def backprop(a2,z0,z1,z2,y):\n",
    "    delta2=z2-y        #loss or the difference between actual and predicted output\n",
    "    Delta2=matmul(z1.T,delta2)   # change in outer layer weights\n",
    "    delta1=(delta2.dot(w2[1:,:].T))*sigmoid_der(a1)  \n",
    "    #print(a1)\n",
    "    Delta1=matmul(z0.T,delta1) #change in hidden layer weights\n",
    "    \n",
    "    return delta2,Delta1,Delta2"
   ]
  },
  {
   "cell_type": "markdown",
   "metadata": {},
   "source": [
    "Training Algorithm:"
   ]
  },
  {
   "cell_type": "code",
   "execution_count": 207,
   "metadata": {},
   "outputs": [
    {
     "name": "stdout",
     "output_type": "stream",
     "text": [
      "Training starts ....\n",
      "Iteration: 0. Error:0.49830719103175347\n",
      "Iteration: 1000. Error:0.4826147470946012\n",
      "Iteration: 2000. Error:0.39381327123586984\n",
      "Iteration: 3000. Error:0.1838368517255431\n",
      "Iteration: 4000. Error:0.08058967697467688\n",
      "Iteration: 5000. Error:0.04478953578003293\n",
      "Iteration: 6000. Error:0.02926128303307307\n",
      "Iteration: 7000. Error:0.021127239125879067\n",
      "Iteration: 8000. Error:0.016282726649630656\n",
      "Iteration: 9000. Error:0.013125697103536123\n",
      "Iteration: 10000. Error:0.010929293242032664\n",
      "Iteration: 11000. Error:0.009324340740315618\n",
      "Iteration: 12000. Error:0.008106258033417357\n",
      "Iteration: 13000. Error:0.007153606567020868\n",
      "Iteration: 14000. Error:0.0063902097428974024\n",
      "Iteration: 15000. Error:0.005766079534727417\n",
      "Iteration: 16000. Error:0.005247163324488481\n",
      "Iteration: 17000. Error:0.00480952267916606\n",
      "Iteration: 18000. Error:0.004435872311694403\n",
      "Iteration: 19000. Error:0.004113439636096828\n",
      "Training Complete.....\n",
      "\n",
      "Output probability :\n",
      "[[0.99506843]\n",
      " [0.0053868 ]\n",
      " [0.00351539]\n",
      " [0.99622029]\n",
      " [0.0035253 ]\n",
      " [0.99690534]\n",
      " [0.99598172]\n",
      " [0.00240904]]\n",
      "\n",
      "Predictions :\n",
      "[[1.]\n",
      " [0.]\n",
      " [0.]\n",
      " [1.]\n",
      " [0.]\n",
      " [1.]\n",
      " [1.]\n",
      " [0.]]\n"
     ]
    }
   ],
   "source": [
    "print(\"Training starts ....\")\n",
    "for i in range(epochs):\n",
    "    a1,z1,a2,z2=forwardprop(x,w1,w2) #forward propagation\n",
    "    #print(a1)\n",
    "    \n",
    "    delta2,Delta1,Delta2=backprop(a2,x,z1,z2,y)   # backward propagation\n",
    "    \n",
    "    #weight updation\n",
    "    \n",
    "    w1-=lr*(1/m)*Delta1   \n",
    "    w2-=lr*(1/m)*Delta2\n",
    "   # print(delta2)\n",
    "   # print()\n",
    "    c=mean(abs(delta2))                       #error\n",
    "    #print(c)\n",
    "    cost.append(c)\n",
    "    \n",
    "    if i%1000==0:\n",
    "        print(f\"Iteration: {i}. Error:{c}\")\n",
    "\n",
    "print(\"Training Complete.....\")\n",
    "\n",
    "print()\n",
    "\n",
    "z3=forwardprop(x,w1,w2,True)                      #output prediction \n",
    "print(\"Output probability :\")\n",
    "print(z3)\n",
    "print()\n",
    "print(\"Predictions :\")\n",
    "print(around(z3))"
   ]
  },
  {
   "cell_type": "code",
   "execution_count": 209,
   "metadata": {},
   "outputs": [
    {
     "data": {
      "image/png": "[encoded data removed]",
      "text/plain": [
       "<Figure size 432x288 with 1 Axes>"
      ]
     },
     "metadata": {
      "needs_background": "light"
     },
     "output_type": "display_data"
    }
   ],
   "source": [
    "#plotting of relationship between cost function and iteration \n",
    "plt.plot(cost)\n",
    "plt.title('Loss vs Iteration')\n",
    "plt.ylabel('Loss')\n",
    "plt.xlabel('Epochs')\n",
    "plt.show()\n",
    "#the cost function is found to be decreasing at start and finally saturates after 10000 iterations."
   ]
  }
 ],
 "metadata": {
  "kernelspec": {
   "display_name": "Python 3",
   "language": "python",
   "name": "python3"
  },
  "language_info": {
   "codemirror_mode": {
    "name": "ipython",
    "version": 3
   },
   "file_extension": ".py",
   "mimetype": "text/x-python",
   "name": "python",
   "nbconvert_exporter": "python",
   "pygments_lexer": "ipython3",
   "version": "3.6.8"
  }
 },
 "nbformat": 4,
 "nbformat_minor": 2
}
